{
  "cells": [
    {
      "attachments": {
        "image-3.png": {
          "image/png": "[encoded data removed]"
        }
      },
      "cell_type": "markdown",
      "metadata": {
        "id": "_1ftOCxggucO"
      },
      "source": [
        "# FACULTAD DE CIENCIAS - CIENCIA DE LA COMPUTACION\n",
        "---\n",
        "![image-3.png](attachment:image-3.png)\n",
        "\n",
        "---\n",
        "\n",
        "\n",
        "# TEMA: Fourie Expasion, Fourier Transformation(FT), Discret Fourier Transform(DFT) and Fast Fourier Transform Algorithm(FFT)\n",
        "\n",
        "---"
      ]
    },
    {
      "cell_type": "markdown",
      "metadata": {
        "id": "izP0hSyEQ3yg"
      },
      "source": [
        "# Expansión en Series de Fourier\n",
        "\n",
        "La expansión en Series de Fourier permite representar cualquier función periódica con una suma infinita de funciones sinusoidales. Estas funciones están compuestas por un armónico principal que oscila a la frecuencia fundamental e infinitos armónicos que oscilan con frecuencias que son multiplos enteros de la frecuencia fundamental"
      ]
    },
    {
      "cell_type": "markdown",
      "metadata": {
        "id": "LRXnqUM77Omm"
      },
      "source": [
        "#Ejemplo1\n",
        "Se hace la serie de Fourier para la funcion $f(x)=x$ en forma algebraica, en el dominio $D=[0,2\\pi]$ y con periodo $T=2\\pi$"
      ]
    },
    {
      "cell_type": "code",
      "execution_count": 1,
      "metadata": {
        "id": "x3Jja6TW8w5n"
      },
      "outputs": [],
      "source": [
        "#[1] DEFINICIONES DE LIBRERIAS Y PARAMETROS INICIALES DE LA SERIE FOURIER\n",
        "\n",
        "from IPython.display import Image\n",
        "import numpy as np\n",
        "from scipy import integrate\n",
        "import matplotlib.pyplot as plt\n",
        "import scipy as sp\n",
        "import sympy as sym\n",
        "\n",
        "%matplotlib inline\n",
        "\n",
        "#Declaramos las variables simbólicas n y t\n",
        "n = sym.Symbol('n')\n",
        "t = sym.Symbol('t')\n",
        "\n",
        "#Definimos la función peridódica\n",
        "Tmin = 0\n",
        "Tmax = 2*np.pi\n",
        "\n",
        "T=Tmax-Tmin\n",
        "#definicion de la frecuencia natural\n",
        "w = 2*np.pi/T\n",
        "\n",
        "#definicion de la funcion al que se hara la expasion de fourier\n",
        "function=t"
      ]
    },
    {
      "cell_type": "code",
      "execution_count": 2,
      "metadata": {
        "colab": {
          "base_uri": "https://localhost:8080/"
        },
        "id": "ouacpkK89O3x",
        "outputId": "6e749628-5c85-4eec-f5ca-de446b2e307c"
      },
      "outputs": [
        {
          "name": "stdout",
          "output_type": "stream",
          "text": [
            "a0 = \n",
            "6.28318530717959\n",
            "an = \n",
            "⎧2.0⋅n⋅sin(6.28318530717959⋅n) + 0.318309886183791⋅cos(6.28318530717959⋅n) - 0 ↪\n",
            "⎪───────────────────────────────────────────────────────────────────────────── ↪\n",
            "⎪                                              2                               ↪\n",
            "⎨                                             n                                ↪\n",
            "⎪                                                                              ↪\n",
            "⎪                                      6.28318530717959                        ↪\n",
            "⎩                                                                              ↪\n",
            "\n",
            "↪ .318309886183791                                                             ↪\n",
            "↪ ────────────────  for (n > -∞ ∨ n > 0) ∧ (n > -∞ ∨ n < ∞) ∧ (n > 0 ∨ n < 0)  ↪\n",
            "↪                                                                              ↪\n",
            "↪                                                                              ↪\n",
            "↪                                                                              ↪\n",
            "↪                                                    for n ≥ 0                 ↪\n",
            "↪                                                                              ↪\n",
            "\n",
            "↪                  \n",
            "↪ ∧ (n < 0 ∨ n < ∞)\n",
            "↪                  \n",
            "↪                  \n",
            "↪                  \n",
            "↪                  \n",
            "↪                  \n",
            "bn = \n",
            "⎧-2.0⋅n⋅cos(6.28318530717959⋅n) + 0.318309886183791⋅sin(6.28318530717959⋅n)    ↪\n",
            "⎪──────────────────────────────────────────────────────────────────────────  f ↪\n",
            "⎪                                     2                                        ↪\n",
            "⎨                                    n                                         ↪\n",
            "⎪                                                                              ↪\n",
            "⎪                                    0                                         ↪\n",
            "⎩                                                                              ↪\n",
            "\n",
            "↪                                                                           \n",
            "↪ or (n > -∞ ∨ n > 0) ∧ (n > -∞ ∨ n < ∞) ∧ (n > 0 ∨ n < 0) ∧ (n < 0 ∨ n < ∞)\n",
            "↪                                                                           \n",
            "↪                                                                           \n",
            "↪                                                                           \n",
            "↪                                 for n ≥ 0                                 \n",
            "↪                                                                           \n"
          ]
        }
      ],
      "source": [
        "#[2] CALCULO DE COEFICIENTES ALGREBRAICOS DE LA SERIE DE FOURIER\n",
        "\n",
        "# Calculamos la integral para a0\n",
        "f_integral = function\n",
        "a0 = (2/T)*sym.integrate(f_integral,(t,Tmin,Tmax))\n",
        "print(\"a0 = \")\n",
        "sym.pprint(a0)\n",
        "\n",
        "# Calculamos la integral para an\n",
        "f_integral = function*sym.cos(n*w*t)\n",
        "an = (2/T)*sym.integrate(f_integral,(t,Tmin,Tmax))\n",
        "an = sym.simplify(an)\n",
        "print(\"an = \")\n",
        "sym.pprint(an)\n",
        "\n",
        "# Calculamos la integral para bn\n",
        "f_integral = function*sym.sin(n*w*t)\n",
        "bn = (2/T)*sym.integrate(f_integral,(t,Tmin,Tmax))\n",
        "print(\"bn = \")\n",
        "bn = sym.simplify(bn)\n",
        "sym.pprint(bn)\n"
      ]
    },
    {
      "cell_type": "code",
      "execution_count": 3,
      "metadata": {
        "colab": {
          "base_uri": "https://localhost:8080/",
          "height": 1000
        },
        "id": "_uCb5IMiGU3I",
        "outputId": "017006a0-b2f0-4b9d-8073-d4522797850b"
      },
      "outputs": [
        {
          "name": "stdout",
          "output_type": "stream",
          "text": [
            "f(t)= \n",
            "-2.0⋅sin(1.0⋅t) - 1.0⋅sin(2.0⋅t) - 0.666666666666667⋅sin(3.0⋅t) - 0.5⋅sin(4.0⋅ ↪\n",
            "\n",
            "↪ t) - 0.4⋅sin(5.0⋅t) - 0.333333333333333⋅sin(6.0⋅t) - 0.285714285714286⋅sin(7 ↪\n",
            "\n",
            "↪ .0⋅t) - 0.25⋅sin(8.0⋅t) - 0.222222222222222⋅sin(9.0⋅t) - 0.2⋅sin(10.0⋅t) - 0 ↪\n",
            "\n",
            "↪ .181818181818182⋅sin(11.0⋅t) - 0.166666666666667⋅sin(12.0⋅t) - 0.15384615384 ↪\n",
            "\n",
            "↪ 6154⋅sin(13.0⋅t) - 0.142857142857143⋅sin(14.0⋅t) - 0.133333333333333⋅sin(15. ↪\n",
            "\n",
            "↪ 0⋅t) - 0.125⋅sin(16.0⋅t) - 0.117647058823529⋅sin(17.0⋅t) - 0.111111111111111 ↪\n",
            "\n",
            "↪ ⋅sin(18.0⋅t) - 0.105263157894737⋅sin(19.0⋅t) - 0.1⋅sin(20.0⋅t) - 0.095238095 ↪\n",
            "\n",
            "↪ 2380952⋅sin(21.0⋅t) - 0.0909090909090909⋅sin(22.0⋅t) - 0.0869565217391304⋅si ↪\n",
            "\n",
            "↪ n(23.0⋅t) - 0.0833333333333333⋅sin(24.0⋅t) - 0.08⋅sin(25.0⋅t) - 0.0769230769 ↪\n",
            "\n",
            "↪ 230769⋅sin(26.0⋅t) - 0.0740740740740741⋅sin(27.0⋅t) - 0.0714285714285714⋅sin ↪\n",
            "\n",
            "↪ (28.0⋅t) - 0.0689655172413793⋅sin(29.0⋅t) - 0.0666666666666667⋅sin(30.0⋅t) - ↪\n",
            "\n",
            "↪  0.0645161290322581⋅sin(31.0⋅t) - 0.0625⋅sin(32.0⋅t) - 0.0606060606060606⋅si ↪\n",
            "\n",
            "↪ n(33.0⋅t) - 0.0588235294117647⋅sin(34.0⋅t) - 0.0571428571428571⋅sin(35.0⋅t)  ↪\n",
            "\n",
            "↪ - 0.0555555555555556⋅sin(36.0⋅t) - 0.0540540540540541⋅sin(37.0⋅t) - 0.052631 ↪\n",
            "\n",
            "↪ 5789473684⋅sin(38.0⋅t) - 0.0512820512820513⋅sin(39.0⋅t) - 0.05⋅sin(40.0⋅t) - ↪\n",
            "\n",
            "↪  0.0487804878048781⋅sin(41.0⋅t) - 0.0476190476190476⋅sin(42.0⋅t) - 0.0465116 ↪\n",
            "\n",
            "↪ 279069768⋅sin(43.0⋅t) - 0.0454545454545455⋅sin(44.0⋅t) - 0.0444444444444444⋅ ↪\n",
            "\n",
            "↪ sin(45.0⋅t) - 0.0434782608695652⋅sin(46.0⋅t) - 0.0425531914893617⋅sin(47.0⋅t ↪\n",
            "\n",
            "↪ ) - 0.0416666666666667⋅sin(48.0⋅t) - 0.0408163265306123⋅sin(49.0⋅t) - 0.04⋅s ↪\n",
            "\n",
            "↪ in(50.0⋅t) - 0.0392156862745098⋅sin(51.0⋅t) - 0.0384615384615385⋅sin(52.0⋅t) ↪\n",
            "\n",
            "↪  - 0.0377358490566038⋅sin(53.0⋅t) - 0.037037037037037⋅sin(54.0⋅t) - 0.036363 ↪\n",
            "\n",
            "↪ 6363636364⋅sin(55.0⋅t) - 0.0357142857142857⋅sin(56.0⋅t) - 0.0350877192982456 ↪\n",
            "\n",
            "↪ ⋅sin(57.0⋅t) - 0.0344827586206897⋅sin(58.0⋅t) - 0.0338983050847458⋅sin(59.0⋅ ↪\n",
            "\n",
            "↪ t) - 0.0333333333333333⋅sin(60.0⋅t) - 0.0327868852459016⋅sin(61.0⋅t) - 0.032 ↪\n",
            "\n",
            "↪ 258064516129⋅sin(62.0⋅t) - 0.0317460317460318⋅sin(63.0⋅t) - 0.03125⋅sin(64.0 ↪\n",
            "\n",
            "↪ ⋅t) - 0.0307692307692308⋅sin(65.0⋅t) - 0.0303030303030303⋅sin(66.0⋅t) - 0.02 ↪\n",
            "\n",
            "↪ 98507462686567⋅sin(67.0⋅t) - 0.0294117647058824⋅sin(68.0⋅t) - 0.028985507246 ↪\n",
            "\n",
            "↪ 3768⋅sin(69.0⋅t) - 0.0285714285714286⋅sin(70.0⋅t) - 0.028169014084507⋅sin(71 ↪\n",
            "\n",
            "↪ .0⋅t) - 0.0277777777777778⋅sin(72.0⋅t) - 0.0273972602739726⋅sin(73.0⋅t) - 0. ↪\n",
            "\n",
            "↪ 027027027027027⋅sin(74.0⋅t) - 0.0266666666666667⋅sin(75.0⋅t) - 0.02631578947 ↪\n",
            "\n",
            "↪ 36842⋅sin(76.0⋅t) - 0.025974025974026⋅sin(77.0⋅t) - 0.0256410256410256⋅sin(7 ↪\n",
            "\n",
            "↪ 8.0⋅t) - 0.0253164556962025⋅sin(79.0⋅t) - 0.025⋅sin(80.0⋅t) - 0.024691358024 ↪\n",
            "\n",
            "↪ 6914⋅sin(81.0⋅t) - 0.024390243902439⋅sin(82.0⋅t) - 0.0240963855421687⋅sin(83 ↪\n",
            "\n",
            "↪ .0⋅t) - 0.0238095238095238⋅sin(84.0⋅t) - 0.0235294117647059⋅sin(85.0⋅t) - 0. ↪\n",
            "\n",
            "↪ 0232558139534884⋅sin(86.0⋅t) - 0.0229885057471264⋅sin(87.0⋅t) - 0.0227272727 ↪\n",
            "\n",
            "↪ 272727⋅sin(88.0⋅t) - 0.0224719101123595⋅sin(89.0⋅t) - 0.0222222222222222⋅sin ↪\n",
            "\n",
            "↪ (90.0⋅t) - 0.021978021978022⋅sin(91.0⋅t) - 0.0217391304347826⋅sin(92.0⋅t) -  ↪\n",
            "\n",
            "↪ 0.021505376344086⋅sin(93.0⋅t) - 0.0212765957446809⋅sin(94.0⋅t) - 0.021052631 ↪\n",
            "\n",
            "↪ 5789474⋅sin(95.0⋅t) - 0.0208333333333333⋅sin(96.0⋅t) - 0.0206185567010309⋅si ↪\n",
            "\n",
            "↪ n(97.0⋅t) - 0.0204081632653061⋅sin(98.0⋅t) - 0.0202020202020202⋅sin(99.0⋅t)  ↪\n",
            "\n",
            "↪ - 0.02⋅sin(100.0⋅t) - 4.89858719658941e-16⋅cos(1.0⋅t) - 4.89858719658941e-16 ↪\n",
            "\n",
            "↪ ⋅cos(2.0⋅t) - 4.89858719658941e-16⋅cos(3.0⋅t) - 4.89858719658941e-16⋅cos(4.0 ↪\n",
            "\n",
            "↪ ⋅t) - 4.89858719658941e-16⋅cos(5.0⋅t) - 4.89858719658941e-16⋅cos(6.0⋅t) - 4. ↪\n",
            "\n",
            "↪ 89858719658941e-16⋅cos(7.0⋅t) - 4.89858719658941e-16⋅cos(8.0⋅t) - 4.89858719 ↪\n",
            "\n",
            "↪ 658941e-16⋅cos(9.0⋅t) - 4.89858719658941e-16⋅cos(10.0⋅t) - 1.78175460285912e ↪\n",
            "\n",
            "↪ -15⋅cos(11.0⋅t) - 4.89858719658941e-16⋅cos(12.0⋅t) + 6.03283950741213e-16⋅co ↪\n",
            "\n",
            "↪ s(13.0⋅t) - 4.89858719658941e-16⋅cos(14.0⋅t) - 1.43724903400574e-15⋅cos(15.0 ↪\n",
            "\n",
            "↪ ⋅t) - 4.89858719658941e-16⋅cos(16.0⋅t) + 3.46073910647059e-16⋅cos(17.0⋅t) -  ↪\n",
            "\n",
            "↪ 4.89858719658941e-16⋅cos(18.0⋅t) - 1.23779844151168e-15⋅cos(19.0⋅t) - 4.8985 ↪\n",
            "\n",
            "↪ 8719658941e-16⋅cos(20.0⋅t) + 1.8684864773163e-16⋅cos(21.0⋅t) - 1.78175460285 ↪\n",
            "\n",
            "↪ 912e-15⋅cos(22.0⋅t) - 1.10772196814599e-15⋅cos(23.0⋅t) - 4.89858719658941e-1 ↪\n",
            "\n",
            "↪ 6⋅cos(24.0⋅t) + 7.85754689491389e-17⋅cos(25.0⋅t) + 6.03283950741213e-16⋅cos( ↪\n",
            "\n",
            "↪ 26.0⋅t) - 1.01618667207383e-15⋅cos(27.0⋅t) - 4.89858719658941e-16⋅cos(28.0⋅t ↪\n",
            "\n",
            "↪ ) + 1.70753279058857e-19⋅cos(29.0⋅t) - 1.43724903400574e-15⋅cos(30.0⋅t) - 9. ↪\n",
            "\n",
            "↪ 48273387891264e-16⋅cos(31.0⋅t) - 4.89858719658941e-16⋅cos(32.0⋅t) - 5.922675 ↪\n",
            "\n",
            "↪ 85922139e-17⋅cos(33.0⋅t) + 3.46073910647059e-16⋅cos(34.0⋅t) - 8.958831400932 ↪\n",
            "\n",
            "↪ 84e-16⋅cos(35.0⋅t) - 4.89858719658941e-16⋅cos(36.0⋅t) - 1.05781565194022e-16 ↪\n",
            "\n",
            "↪ ⋅cos(37.0⋅t) - 1.23779844151168e-15⋅cos(38.0⋅t) - 8.54239609792326e-16⋅cos(3 ↪\n",
            "\n",
            "↪ 9.0⋅t) - 4.89858719658941e-16⋅cos(40.0⋅t) - 1.52967735735665e-15⋅cos(41.0⋅t) ↪\n",
            "\n",
            "↪  + 1.8684864773163e-16⋅cos(42.0⋅t) - 8.20343713035732e-16⋅cos(43.0⋅t) - 1.78 ↪\n",
            "\n",
            "↪ 175460285912e-15⋅cos(44.0⋅t) - 1.74061948210008e-16⋅cos(45.0⋅t) - 1.10772196 ↪\n",
            "\n",
            "↪ 814599e-15⋅cos(46.0⋅t) + 4.17217113226293e-16⋅cos(47.0⋅t) - 4.89858719658941 ↪\n",
            "\n",
            "↪ e-16⋅cos(48.0⋅t) - 1.3599110491611e-15⋅cos(49.0⋅t) + 7.85754689491389e-17⋅co ↪\n",
            "\n",
            "↪ s(50.0⋅t) - 7.68502929760942e-16⋅cos(51.0⋅t) + 6.03283950741213e-16⋅cos(52.0 ↪\n",
            "\n",
            "↪ ⋅t) - 2.21729385409847e-16⋅cos(53.0⋅t) - 1.01618667207383e-15⋅cos(54.0⋅t) +  ↪\n",
            "\n",
            "↪ 2.85278810261168e-16⋅cos(55.0⋅t) - 4.89858719658941e-16⋅cos(56.0⋅t) - 1.2377 ↪\n",
            "\n",
            "↪ 9844151168e-15⋅cos(57.0⋅t) + 1.70753279058857e-19⋅cos(58.0⋅t) - 7.3072066398 ↪\n",
            "\n",
            "↪ 4399e-16⋅cos(59.0⋅t) - 1.43724903400574e-15⋅cos(60.0⋅t) - 2.56893888262187e- ↪\n",
            "\n",
            "↪ 16⋅cos(61.0⋅t) - 9.48273387891264e-16⋅cos(62.0⋅t) + 1.8684864773163e-16⋅cos( ↪\n",
            "\n",
            "↪ 63.0⋅t) - 4.89858719658941e-16⋅cos(64.0⋅t) - 1.14574432189903e-15⋅cos(65.0⋅t ↪\n",
            "\n",
            "↪ ) - 5.92267585922139e-17⋅cos(66.0⋅t) - 7.01961028841061e-16⋅cos(67.0⋅t) + 3. ↪\n",
            "\n",
            "↪ 46073910647059e-16⋅cos(68.0⋅t) - 2.83904303496593e-16⋅cos(69.0⋅t) - 8.958831 ↪\n",
            "\n",
            "↪ 40093284e-16⋅cos(70.0⋅t) + 1.10599930279172e-16⋅cos(71.0⋅t) - 4.898587196589 ↪\n",
            "\n",
            "↪ 41e-16⋅cos(72.0⋅t) - 1.07386644768094e-15⋅cos(73.0⋅t) - 1.05781565194022e-16 ↪\n",
            "\n",
            "↪ ⋅cos(74.0⋅t) - 6.79336782528301e-16⋅cos(75.0⋅t) - 1.23779844151168e-15⋅cos(7 ↪\n",
            "\n",
            "↪ 6.0⋅t) - 3.05302164916058e-16⋅cos(77.0⋅t) - 8.54239609792326e-16⋅cos(78.0⋅t) ↪\n",
            "\n",
            "↪  + 4.97939910449323e-17⋅cos(79.0⋅t) - 4.89858719658941e-16⋅cos(80.0⋅t) - 1.0 ↪\n",
            "\n",
            "↪ 1618667207383e-15⋅cos(81.0⋅t) - 1.52967735735665e-15⋅cos(82.0⋅t) + 7.0864709 ↪\n",
            "\n",
            "↪ 9695445e-16⋅cos(83.0⋅t) + 1.8684864773163e-16⋅cos(84.0⋅t) - 3.22672193597741 ↪\n",
            "\n",
            "↪ e-16⋅cos(85.0⋅t) - 8.20343713035732e-16⋅cos(86.0⋅t) - 1.30657450788894e-15⋅c ↪\n",
            "\n",
            "↪ os(87.0⋅t) - 1.78175460285912e-15⋅cos(88.0⋅t) + 3.08503904790609e-16⋅cos(89. ↪\n",
            "\n",
            "↪ 0⋅t) - 1.74061948210008e-16⋅cos(90.0⋅t) - 6.46021958287535e-16⋅cos(91.0⋅t) - ↪\n",
            "\n",
            "↪  1.10772196814599e-15⋅cos(92.0⋅t) - 1.55949294553436e-15⋅cos(93.0⋅t) + 4.172 ↪\n",
            "\n",
            "↪ 17113226293e-16⋅cos(94.0⋅t) - 4.10948865472991e-17⋅cos(95.0⋅t) - 4.898587196 ↪\n",
            "\n",
            "↪ 58941e-16⋅cos(96.0⋅t) - 9.29369690232199e-16⋅cos(97.0⋅t) - 1.3599110491611e- ↪\n",
            "\n",
            "↪ 15⋅cos(98.0⋅t) + 5.14949189496756e-16⋅cos(99.0⋅t) + 7.85754689491389e-17⋅cos ↪\n",
            "\n",
            "↪ (100.0⋅t) + 3.14159265358979\n"
          ]
        },
        {
          "data": {
            "image/png": "[encoded data removed]",
            "text/plain": [
              "<Figure size 640x480 with 1 Axes>"
            ]
          },
          "metadata": {},
          "output_type": "display_data"
        }
      ],
      "source": [
        "#[3] USANDO LOS COEFICIENTES ALGREBRAICOS, PARA ESCRIBIR DE LA SERIE DE FOURIER\n",
        "\n",
        "#suma inicial de la serie\n",
        "serie = 0\n",
        "# definimos el número de armónicos para la expansión\n",
        "Armonicos = 100\n",
        "\n",
        "for i in range(1,Armonicos+1):\n",
        "\n",
        "    # Evaluamos los coeficientes para cada armónico\n",
        "    an_c = an.subs(n,i)\n",
        "    bn_c = bn.subs(n,i)\n",
        "    #if abs(an_c) < 0.0001: an_c = 0 #para no tomar en concideracion en la suma\n",
        "    #if abs(bn_c) < 0.0001: bn_c = 0 #para no tomar en concideracion en la suma\n",
        "\n",
        "    serie= serie + an_c*sym.cos(i*w*t) # Términos coseno de la serie\n",
        "    serie = serie + bn_c*sym.sin(i*w*t) # Términos seno de la serie\n",
        "\n",
        "serie = a0/2+serie  # Expansión final de la serie\n",
        "\n",
        "#impresion de la expansion completa\n",
        "print('f(t)= ')\n",
        "sym.pprint(serie)\n",
        "\n",
        "# Convertimos la expresión Sympy a una función evaluable\n",
        "fserie = sym.lambdify(t,serie)\n",
        "f = sym.lambdify(t,function)\n",
        "\n",
        "# Creamos un vector de tiempo para la gráfica\n",
        "v_tiempo = np.linspace(Tmin,Tmax,200)\n",
        "\n",
        "# Evaluamos las funciones\n",
        "fserieG = fserie(v_tiempo)\n",
        "fG = f(v_tiempo)\n",
        "\n",
        "plt.plot(v_tiempo,fG,label = 'f(t)')\n",
        "plt.plot(v_tiempo,fserieG,label = 'Expansión')\n",
        "\n",
        "plt.xlabel('tiempo')\n",
        "plt.legend()\n",
        "plt.title('Expansión en Series de Fourier')\n",
        "plt.show()"
      ]
    },
    {
      "cell_type": "markdown",
      "metadata": {
        "id": "--Aj1ESctEW7"
      },
      "source": [
        "#Transformada de Fourier(FT)\n",
        "\n",
        "Sea $f(t) \\in R$\n",
        "$$\\mathcal{F}\\{f(t)\\} = F(\\omega) = \\int_{-\\infty}^{\\infty} f(t) e^{-i 2\\pi \\omega t} \\, dt $$\n",
        "\n",
        "\n"
      ]
    },
    {
      "cell_type": "markdown",
      "metadata": {
        "id": "iVZ9MOoGRXuw"
      },
      "source": [
        "#Transformada de Discrtea de Fourier\n",
        "\n",
        "Definimos la tranformada discreta de Fourier como:\n",
        "\n",
        "$$F[w] = \\sum_{n=0}^{N-1} f(n) e^{-i \\frac{2\\pi}{N} w \\; n}$$"
      ]
    },
    {
      "cell_type": "code",
      "execution_count": 4,
      "metadata": {
        "id": "Fv387yUYkA7P"
      },
      "outputs": [],
      "source": [
        "import numpy as np\n",
        "#transfomada discreta de fourier(DFT)\n",
        "def discrete_fourier_transform(data):\n",
        "  \"\"\"\n",
        "  data: np.array,de 1 dimension\n",
        "  return: Transformad de Fourier\n",
        "  \"\"\"\n",
        "  #longitud de la data\n",
        "  N=data.shape[0]\n",
        "  #crea un array [0, 1, 2, 3,...,N-1]\n",
        "  n=np.arange(N)\n",
        "  # Convierte en una columna el array n\n",
        "  k=n.reshape((N,1))\n",
        "\n",
        "  M=np.exp(-1j*2*np.pi*k*n/N)\n",
        "\n",
        "  return np.dot(M,data)"
      ]
    },
    {
      "cell_type": "markdown",
      "metadata": {
        "id": "vbv6zwMzSLpw"
      },
      "source": [
        "**EJEMPLO**\n",
        "\n",
        "Calculamos primero la transformada discreta de fourier para una data $f[n]=[0, 1, 2, 3, 4]$, luego para una data $f[n]=0:19500$"
      ]
    },
    {
      "cell_type": "code",
      "execution_count": 5,
      "metadata": {
        "colab": {
          "base_uri": "https://localhost:8080/"
        },
        "id": "4U3wkdf9jglo",
        "outputId": "81d63049-f9fa-4734-f7ed-b5354ff91088"
      },
      "outputs": [
        {
          "name": "stdout",
          "output_type": "stream",
          "text": [
            "Generacion de la Data:  [0 1 2 3 4]\n",
            "##########     DISCRETE FOURIER TRANSFORM     ##########\n",
            "\n",
            "Señal original: [0 1 2 3 4]\n",
            "\n",
            "Transformada Discreta de Fourier: [10. +0.j         -2.5+3.4409548j  -2.5+0.81229924j -2.5-0.81229924j\n",
            " -2.5-3.4409548j ]\n",
            "\n",
            "El tiempo de ejecución del programa implementado fue: 0.001088 segundos\n",
            "\n",
            "Transformada Discreta de Fourier con libreria: [10. +0.j         -2.5+3.4409548j  -2.5+0.81229924j -2.5-0.81229924j\n",
            " -2.5-3.4409548j ]\n",
            "\n",
            "El tiempo de ejecución del programa con librerias fue: 0.000330 segundos\n"
          ]
        }
      ],
      "source": [
        "#ejemplo transformada discreta\n",
        "import time\n",
        "\n",
        "start_time = time.time()  # Captura el tiempo de inicio\n",
        "\n",
        "# Señal de entrada 1\n",
        "data = np.array([0, 1, 2, 3, 4])\n",
        "\n",
        "# Señal de entrada 2\n",
        "#data=np.arange(8500)\n",
        "\n",
        "#impresion de la data\n",
        "print(\"Generacion de la Data: \",data)\n",
        "\n",
        "# Calcula la DFT\n",
        "dft_result = discrete_fourier_transform(data)\n",
        "print(\"##########     DISCRETE FOURIER TRANSFORM     ##########\")\n",
        "print(\"\\nSeñal original:\", data)\n",
        "print(\"\\nTransformada Discreta de Fourier:\", dft_result)\n",
        "end_time = time.time()  # Captura el tiempo de finalización\n",
        "\n",
        "\n",
        "execution_time = end_time - start_time  # Tiempo total en segundos\n",
        "print(f\"\\nEl tiempo de ejecución del programa implementado fue: {execution_time:.6f} segundos\")\n",
        "\n",
        "\n",
        "start_time = time.time()  # Captura el tiempo de inicio\n",
        "print(\"\\nTransformada Discreta de Fourier con libreria:\", np.fft.fft(data))\n",
        "end_time = time.time()  # Captura el tiempo de finalización\n",
        "execution_time = end_time - start_time  # Tiempo total en segundos\n",
        "print(f\"\\nEl tiempo de ejecución del programa con librerias fue: {execution_time:.6f} segundos\")\n",
        "\n"
      ]
    },
    {
      "cell_type": "markdown",
      "metadata": {
        "id": "a5gCH4x2UMg5"
      },
      "source": [
        "#Algortimo de transformada Rapida de  Fourier(FFT)\n",
        "\n",
        "Definimos la tranformada discreta de Fourier como:\n",
        "\n",
        "$$F[w] = \\sum_{n=0}^{N-1} f(n) e^{-i \\frac{2\\pi}{N} w \\; n}$$"
      ]
    },
    {
      "cell_type": "code",
      "execution_count": 6,
      "metadata": {
        "id": "GRiobNVvf79v"
      },
      "outputs": [],
      "source": [
        "import numpy as np\n",
        "#funcion que genera los datos aleatoriamente\n",
        "def get_data(len):\n",
        "  \"\"\"\n",
        "  len: longitud de los datos requeridos, numero entero\n",
        "  \"\"\"\n",
        "  data=np.random.rand(len)\n",
        "  return data\n",
        "\n",
        "def get_circular_terms(N):\n",
        "  \"\"\"\n",
        "  N: numero entero\n",
        "  \"\"\"\n",
        "  terms=np.exp(-1j*2*np.pi*np.arange(N)/N)\n",
        "  return terms\n",
        "\n",
        "#transfomada rapida de fourier(FFT)\n",
        "def fast_fourier_transform(data):\n",
        "  \"\"\"\n",
        "  data: np.array,de 1 dimension\n",
        "  return: Transformada de Fourier\n",
        "  \"\"\"\n",
        "  #longitud de los datos\n",
        "  N=data.shape[0]\n",
        "\n",
        "  assert N % 2==0,'longitud de los datos: {} debe ser una potencia de 2'.format(N)\n",
        "\n",
        "  if N<=2:\n",
        "    return discrete_fourier_transform(data)\n",
        "\n",
        "  else:\n",
        "    data_even=fast_fourier_transform(data[::2])\n",
        "    data_odd=fast_fourier_transform(data[1::2])\n",
        "    terms=get_circular_terms(N)\n",
        "\n",
        "    return np.concatenate(\n",
        "        [data_even+terms[:N//2]*data_odd,\n",
        "        data_even+terms[N//2:]*data_odd\n",
        "        ]\n",
        "    )\n"
      ]
    },
    {
      "cell_type": "code",
      "execution_count": 7,
      "metadata": {
        "colab": {
          "base_uri": "https://localhost:8080/"
        },
        "id": "bI94VOr30MOa",
        "outputId": "68c7afc5-61c8-4b65-fe70-799bc3293805"
      },
      "outputs": [
        {
          "name": "stdout",
          "output_type": "stream",
          "text": [
            "Generacion de la Data:  [0.84942933 0.53258405 0.59506883 0.16834699]\n",
            "Generacion de la Data:  [0 1 2 3]\n",
            "\n",
            "ELementos circulares:  [ 1.-0.0000000e+00j -1.-1.2246468e-16j]\n",
            "\n",
            "DFT:  [ 6.+0.00000000e+00j -2.+2.00000000e+00j -2.-7.34788079e-16j\n",
            " -2.-2.00000000e+00j]\n",
            "\n",
            "FFT:  [ 6.+0.0000000e+00j -2.+2.0000000e+00j -2.-4.8985872e-16j\n",
            " -2.-2.0000000e+00j]\n",
            "\n",
            "FFT con numpy:  [ 6.+0.j -2.+2.j -2.+0.j -2.-2.j]\n",
            "True True\n",
            "\n"
          ]
        }
      ],
      "source": [
        "#numero de elementos de los datos\n",
        "N=8\n",
        "#generacion de la data\n",
        "X=get_data(4)\n",
        "print(\"Generacion de la Data: \",X)\n",
        "\n",
        "X=np.arange(4)\n",
        "print(\"Generacion de la Data: \",X)\n",
        "\n",
        "print(\"\\nELementos circulares: \",get_circular_terms(2))\n",
        "\n",
        "dft=discrete_fourier_transform(X)\n",
        "fft=fast_fourier_transform(X)\n",
        "fft_np=np.fft.fft(X)\n",
        "\n",
        "print(\"\\nDFT: \",dft)\n",
        "print(\"\\nFFT: \",fft)\n",
        "print(\"\\nFFT con numpy: \",fft_np)\n",
        "\n",
        "print(np.allclose(dft,fft_np),\n",
        "      np.allclose(fft,fft_np))\n",
        "\n",
        "print(\"\")\n",
        "#show_M(N)"
      ]
    },
    {
      "cell_type": "markdown",
      "metadata": {
        "id": "4p4x0XxArA93"
      },
      "source": [
        "**EJEMPLO**\n",
        "\n",
        "Generacion de de una señala artificial con tres frescuencias, la primera de 60Hz,la segunda de 160Hz y la ultima con 250Hz, con amplitudes 3, 0.5 y 2.3,  luego se usara FFT para la ver las frecuencias predominantes."
      ]
    },
    {
      "cell_type": "code",
      "execution_count": 8,
      "metadata": {
        "colab": {
          "base_uri": "https://localhost:8080/",
          "height": 456
        },
        "id": "Pa5v7Enzu_53",
        "outputId": "b8afcac2-41a3-4297-86d4-d5f908873dac"
      },
      "outputs": [
        {
          "data": {
            "image/png": "[encoded data removed]",
            "text/plain": [
              "<Figure size 650x450 with 1 Axes>"
            ]
          },
          "metadata": {},
          "output_type": "display_data"
        }
      ],
      "source": [
        "import numpy as np\n",
        "import matplotlib.pyplot as plt\n",
        "\n",
        "#Generacion de Señal artificial\n",
        "Ts=0.001  # perido\n",
        "Fs=1/Ts   # frecuencia\n",
        "w1=2*np.pi*60  #frecuencia de 60Hz para la señal 1\n",
        "w2=2*np.pi*160 #frecuencia de 160Hz para la señal 2\n",
        "w3=2*np.pi*250 #frecuencia de 250Hz para la señal 3\n",
        "\n",
        "#constrruccion de la señal compuesta con w1,w2,w3 y ruido\n",
        "n=Ts*np.arange(0,1000) #numero\n",
        "ruido=np.random.random(len(n)) #generacion del ruido arbitrario\n",
        "x=3*np.sin(w1*n)+0.5*np.sin(w2*n)+2.3*np.sin(w3*n)+ruido\n",
        "\n",
        "\n",
        "# Ajustar tamaño de la figura\n",
        "plt.figure(figsize=(6.5, 4.5)) # ancho=12, alto=6 (ajústalo según lo que necesites)\n",
        "plt.plot(n, x, '.-') # construye el objeto de ploteo de la señal\n",
        "plt.xlabel('Tiempo (s)', fontsize=14) # configuración del eje x\n",
        "plt.ylabel('Amplitud', fontsize=14)  # configuración del eje y\n",
        "plt.title('Señal Artificial', fontsize=16) # título del gráfico\n",
        "plt.grid(True) # agregar cuadrícula para mejor visualización\n",
        "plt.show() # muestra el ploteo\n"
      ]
    },
    {
      "cell_type": "code",
      "execution_count": 9,
      "metadata": {
        "colab": {
          "base_uri": "https://localhost:8080/",
          "height": 912
        },
        "id": "g2Gxf2MstWin",
        "outputId": "975bd467-ea05-4f11-fad4-9c174b7e24fa"
      },
      "outputs": [
        {
          "data": {
            "image/png": "[encoded data removed]",
            "text/plain": [
              "<Figure size 640x480 with 1 Axes>"
            ]
          },
          "metadata": {},
          "output_type": "display_data"
        },
        {
          "name": "stdout",
          "output_type": "stream",
          "text": [
            "\n",
            "\n"
          ]
        },
        {
          "data": {
            "application/vnd.plotly.v1+json": {
              "config": {
                "plotlyServerURL": "https://plot.ly"
              },
              "data": [
                {
                  "mode": "lines",
                  "name": "FFT",
                  "type": "scatter",
                  "x": {
                    "bdata": "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",
                    "dtype": "f8"
                  },
                  "y": {
                    "bdata": "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",
                    "dtype": "f8"
                  }
                }
              ],
              "layout": {
                "height": 400,
                "legend": {
                  "bgcolor": "rgba(255,255,255,0.8)",
                  "bordercolor": "black",
                  "borderwidth": 1,
                  "x": 0.8,
                  "y": 1
                },
                "margin": {
                  "b": 50,
                  "l": 50,
                  "r": 50,
                  "t": 80
                },
                "template": {
                  "data": {
                    "bar": [
                      {
                        "error_x": {
                          "color": "#2a3f5f"
                        },
                        "error_y": {
                          "color": "#2a3f5f"
                        },
                        "marker": {
                          "line": {
                            "color": "white",
                            "width": 0.5
                          },
                          "pattern": {
                            "fillmode": "overlay",
                            "size": 10,
                            "solidity": 0.2
                          }
                        },
                        "type": "bar"
                      }
                    ],
                    "barpolar": [
                      {
                        "marker": {
                          "line": {
                            "color": "white",
                            "width": 0.5
                          },
                          "pattern": {
                            "fillmode": "overlay",
                            "size": 10,
                            "solidity": 0.2
                          }
                        },
                        "type": "barpolar"
                      }
                    ],
                    "carpet": [
                      {
                        "aaxis": {
                          "endlinecolor": "#2a3f5f",
                          "gridcolor": "#C8D4E3",
                          "linecolor": "#C8D4E3",
                          "minorgridcolor": "#C8D4E3",
                          "startlinecolor": "#2a3f5f"
                        },
                        "baxis": {
                          "endlinecolor": "#2a3f5f",
                          "gridcolor": "#C8D4E3",
                          "linecolor": "#C8D4E3",
                          "minorgridcolor": "#C8D4E3",
                          "startlinecolor": "#2a3f5f"
                        },
                        "type": "carpet"
                      }
                    ],
                    "choropleth": [
                      {
                        "colorbar": {
                          "outlinewidth": 0,
                          "ticks": ""
                        },
                        "type": "choropleth"
                      }
                    ],
                    "contour": [
                      {
                        "colorbar": {
                          "outlinewidth": 0,
                          "ticks": ""
                        },
                        "colorscale": [
                          [
                            0,
                            "#0d0887"
                          ],
                          [
                            0.1111111111111111,
                            "#46039f"
                          ],
                          [
                            0.2222222222222222,
                            "#7201a8"
                          ],
                          [
                            0.3333333333333333,
                            "#9c179e"
                          ],
                          [
                            0.4444444444444444,
                            "#bd3786"
                          ],
                          [
                            0.5555555555555556,
                            "#d8576b"
                          ],
                          [
                            0.6666666666666666,
                            "#ed7953"
                          ],
                          [
                            0.7777777777777778,
                            "#fb9f3a"
                          ],
                          [
                            0.8888888888888888,
                            "#fdca26"
                          ],
                          [
                            1,
                            "#f0f921"
                          ]
                        ],
                        "type": "contour"
                      }
                    ],
                    "contourcarpet": [
                      {
                        "colorbar": {
                          "outlinewidth": 0,
                          "ticks": ""
                        },
                        "type": "contourcarpet"
                      }
                    ],
                    "heatmap": [
                      {
                        "colorbar": {
                          "outlinewidth": 0,
                          "ticks": ""
                        },
                        "colorscale": [
                          [
                            0,
                            "#0d0887"
                          ],
                          [
                            0.1111111111111111,
                            "#46039f"
                          ],
                          [
                            0.2222222222222222,
                            "#7201a8"
                          ],
                          [
                            0.3333333333333333,
                            "#9c179e"
                          ],
                          [
                            0.4444444444444444,
                            "#bd3786"
                          ],
                          [
                            0.5555555555555556,
                            "#d8576b"
                          ],
                          [
                            0.6666666666666666,
                            "#ed7953"
                          ],
                          [
                            0.7777777777777778,
                            "#fb9f3a"
                          ],
                          [
                            0.8888888888888888,
                            "#fdca26"
                          ],
                          [
                            1,
                            "#f0f921"
                          ]
                        ],
                        "type": "heatmap"
                      }
                    ],
                    "histogram": [
                      {
                        "marker": {
                          "pattern": {
                            "fillmode": "overlay",
                            "size": 10,
                            "solidity": 0.2
                          }
                        },
                        "type": "histogram"
                      }
                    ],
                    "histogram2d": [
                      {
                        "colorbar": {
                          "outlinewidth": 0,
                          "ticks": ""
                        },
                        "colorscale": [
                          [
                            0,
                            "#0d0887"
                          ],
                          [
                            0.1111111111111111,
                            "#46039f"
                          ],
                          [
                            0.2222222222222222,
                            "#7201a8"
                          ],
                          [
                            0.3333333333333333,
                            "#9c179e"
                          ],
                          [
                            0.4444444444444444,
                            "#bd3786"
                          ],
                          [
                            0.5555555555555556,
                            "#d8576b"
                          ],
                          [
                            0.6666666666666666,
                            "#ed7953"
                          ],
                          [
                            0.7777777777777778,
                            "#fb9f3a"
                          ],
                          [
                            0.8888888888888888,
                            "#fdca26"
                          ],
                          [
                            1,
                            "#f0f921"
                          ]
                        ],
                        "type": "histogram2d"
                      }
                    ],
                    "histogram2dcontour": [
                      {
                        "colorbar": {
                          "outlinewidth": 0,
                          "ticks": ""
                        },
                        "colorscale": [
                          [
                            0,
                            "#0d0887"
                          ],
                          [
                            0.1111111111111111,
                            "#46039f"
                          ],
                          [
                            0.2222222222222222,
                            "#7201a8"
                          ],
                          [
                            0.3333333333333333,
                            "#9c179e"
                          ],
                          [
                            0.4444444444444444,
                            "#bd3786"
                          ],
                          [
                            0.5555555555555556,
                            "#d8576b"
                          ],
                          [
                            0.6666666666666666,
                            "#ed7953"
                          ],
                          [
                            0.7777777777777778,
                            "#fb9f3a"
                          ],
                          [
                            0.8888888888888888,
                            "#fdca26"
                          ],
                          [
                            1,
                            "#f0f921"
                          ]
                        ],
                        "type": "histogram2dcontour"
                      }
                    ],
                    "mesh3d": [
                      {
                        "colorbar": {
                          "outlinewidth": 0,
                          "ticks": ""
                        },
                        "type": "mesh3d"
                      }
                    ],
                    "parcoords": [
                      {
                        "line": {
                          "colorbar": {
                            "outlinewidth": 0,
                            "ticks": ""
                          }
                        },
                        "type": "parcoords"
                      }
                    ],
                    "pie": [
                      {
                        "automargin": true,
                        "type": "pie"
                      }
                    ],
                    "scatter": [
                      {
                        "fillpattern": {
                          "fillmode": "overlay",
                          "size": 10,
                          "solidity": 0.2
                        },
                        "type": "scatter"
                      }
                    ],
                    "scatter3d": [
                      {
                        "line": {
                          "colorbar": {
                            "outlinewidth": 0,
                            "ticks": ""
                          }
                        },
                        "marker": {
                          "colorbar": {
                            "outlinewidth": 0,
                            "ticks": ""
                          }
                        },
                        "type": "scatter3d"
                      }
                    ],
                    "scattercarpet": [
                      {
                        "marker": {
                          "colorbar": {
                            "outlinewidth": 0,
                            "ticks": ""
                          }
                        },
                        "type": "scattercarpet"
                      }
                    ],
                    "scattergeo": [
                      {
                        "marker": {
                          "colorbar": {
                            "outlinewidth": 0,
                            "ticks": ""
                          }
                        },
                        "type": "scattergeo"
                      }
                    ],
                    "scattergl": [
                      {
                        "marker": {
                          "colorbar": {
                            "outlinewidth": 0,
                            "ticks": ""
                          }
                        },
                        "type": "scattergl"
                      }
                    ],
                    "scattermap": [
                      {
                        "marker": {
                          "colorbar": {
                            "outlinewidth": 0,
                            "ticks": ""
                          }
                        },
                        "type": "scattermap"
                      }
                    ],
                    "scattermapbox": [
                      {
                        "marker": {
                          "colorbar": {
                            "outlinewidth": 0,
                            "ticks": ""
                          }
                        },
                        "type": "scattermapbox"
                      }
                    ],
                    "scatterpolar": [
                      {
                        "marker": {
                          "colorbar": {
                            "outlinewidth": 0,
                            "ticks": ""
                          }
                        },
                        "type": "scatterpolar"
                      }
                    ],
                    "scatterpolargl": [
                      {
                        "marker": {
                          "colorbar": {
                            "outlinewidth": 0,
                            "ticks": ""
                          }
                        },
                        "type": "scatterpolargl"
                      }
                    ],
                    "scatterternary": [
                      {
                        "marker": {
                          "colorbar": {
                            "outlinewidth": 0,
                            "ticks": ""
                          }
                        },
                        "type": "scatterternary"
                      }
                    ],
                    "surface": [
                      {
                        "colorbar": {
                          "outlinewidth": 0,
                          "ticks": ""
                        },
                        "colorscale": [
                          [
                            0,
                            "#0d0887"
                          ],
                          [
                            0.1111111111111111,
                            "#46039f"
                          ],
                          [
                            0.2222222222222222,
                            "#7201a8"
                          ],
                          [
                            0.3333333333333333,
                            "#9c179e"
                          ],
                          [
                            0.4444444444444444,
                            "#bd3786"
                          ],
                          [
                            0.5555555555555556,
                            "#d8576b"
                          ],
                          [
                            0.6666666666666666,
                            "#ed7953"
                          ],
                          [
                            0.7777777777777778,
                            "#fb9f3a"
                          ],
                          [
                            0.8888888888888888,
                            "#fdca26"
                          ],
                          [
                            1,
                            "#f0f921"
                          ]
                        ],
                        "type": "surface"
                      }
                    ],
                    "table": [
                      {
                        "cells": {
                          "fill": {
                            "color": "#EBF0F8"
                          },
                          "line": {
                            "color": "white"
                          }
                        },
                        "header": {
                          "fill": {
                            "color": "#C8D4E3"
                          },
                          "line": {
                            "color": "white"
                          }
                        },
                        "type": "table"
                      }
                    ]
                  },
                  "layout": {
                    "annotationdefaults": {
                      "arrowcolor": "#2a3f5f",
                      "arrowhead": 0,
                      "arrowwidth": 1
                    },
                    "autotypenumbers": "strict",
                    "coloraxis": {
                      "colorbar": {
                        "outlinewidth": 0,
                        "ticks": ""
                      }
                    },
                    "colorscale": {
                      "diverging": [
                        [
                          0,
                          "#8e0152"
                        ],
                        [
                          0.1,
                          "#c51b7d"
                        ],
                        [
                          0.2,
                          "#de77ae"
                        ],
                        [
                          0.3,
                          "#f1b6da"
                        ],
                        [
                          0.4,
                          "#fde0ef"
                        ],
                        [
                          0.5,
                          "#f7f7f7"
                        ],
                        [
                          0.6,
                          "#e6f5d0"
                        ],
                        [
                          0.7,
                          "#b8e186"
                        ],
                        [
                          0.8,
                          "#7fbc41"
                        ],
                        [
                          0.9,
                          "#4d9221"
                        ],
                        [
                          1,
                          "#276419"
                        ]
                      ],
                      "sequential": [
                        [
                          0,
                          "#0d0887"
                        ],
                        [
                          0.1111111111111111,
                          "#46039f"
                        ],
                        [
                          0.2222222222222222,
                          "#7201a8"
                        ],
                        [
                          0.3333333333333333,
                          "#9c179e"
                        ],
                        [
                          0.4444444444444444,
                          "#bd3786"
                        ],
                        [
                          0.5555555555555556,
                          "#d8576b"
                        ],
                        [
                          0.6666666666666666,
                          "#ed7953"
                        ],
                        [
                          0.7777777777777778,
                          "#fb9f3a"
                        ],
                        [
                          0.8888888888888888,
                          "#fdca26"
                        ],
                        [
                          1,
                          "#f0f921"
                        ]
                      ],
                      "sequentialminus": [
                        [
                          0,
                          "#0d0887"
                        ],
                        [
                          0.1111111111111111,
                          "#46039f"
                        ],
                        [
                          0.2222222222222222,
                          "#7201a8"
                        ],
                        [
                          0.3333333333333333,
                          "#9c179e"
                        ],
                        [
                          0.4444444444444444,
                          "#bd3786"
                        ],
                        [
                          0.5555555555555556,
                          "#d8576b"
                        ],
                        [
                          0.6666666666666666,
                          "#ed7953"
                        ],
                        [
                          0.7777777777777778,
                          "#fb9f3a"
                        ],
                        [
                          0.8888888888888888,
                          "#fdca26"
                        ],
                        [
                          1,
                          "#f0f921"
                        ]
                      ]
                    },
                    "colorway": [
                      "#636efa",
                      "#EF553B",
                      "#00cc96",
                      "#ab63fa",
                      "#FFA15A",
                      "#19d3f3",
                      "#FF6692",
                      "#B6E880",
                      "#FF97FF",
                      "#FECB52"
                    ],
                    "font": {
                      "color": "#2a3f5f"
                    },
                    "geo": {
                      "bgcolor": "white",
                      "lakecolor": "white",
                      "landcolor": "white",
                      "showlakes": true,
                      "showland": true,
                      "subunitcolor": "#C8D4E3"
                    },
                    "hoverlabel": {
                      "align": "left"
                    },
                    "hovermode": "closest",
                    "mapbox": {
                      "style": "light"
                    },
                    "paper_bgcolor": "white",
                    "plot_bgcolor": "white",
                    "polar": {
                      "angularaxis": {
                        "gridcolor": "#EBF0F8",
                        "linecolor": "#EBF0F8",
                        "ticks": ""
                      },
                      "bgcolor": "white",
                      "radialaxis": {
                        "gridcolor": "#EBF0F8",
                        "linecolor": "#EBF0F8",
                        "ticks": ""
                      }
                    },
                    "scene": {
                      "xaxis": {
                        "backgroundcolor": "white",
                        "gridcolor": "#DFE8F3",
                        "gridwidth": 2,
                        "linecolor": "#EBF0F8",
                        "showbackground": true,
                        "ticks": "",
                        "zerolinecolor": "#EBF0F8"
                      },
                      "yaxis": {
                        "backgroundcolor": "white",
                        "gridcolor": "#DFE8F3",
                        "gridwidth": 2,
                        "linecolor": "#EBF0F8",
                        "showbackground": true,
                        "ticks": "",
                        "zerolinecolor": "#EBF0F8"
                      },
                      "zaxis": {
                        "backgroundcolor": "white",
                        "gridcolor": "#DFE8F3",
                        "gridwidth": 2,
                        "linecolor": "#EBF0F8",
                        "showbackground": true,
                        "ticks": "",
                        "zerolinecolor": "#EBF0F8"
                      }
                    },
                    "shapedefaults": {
                      "line": {
                        "color": "#2a3f5f"
                      }
                    },
                    "ternary": {
                      "aaxis": {
                        "gridcolor": "#DFE8F3",
                        "linecolor": "#A2B1C6",
                        "ticks": ""
                      },
                      "baxis": {
                        "gridcolor": "#DFE8F3",
                        "linecolor": "#A2B1C6",
                        "ticks": ""
                      },
                      "bgcolor": "white",
                      "caxis": {
                        "gridcolor": "#DFE8F3",
                        "linecolor": "#A2B1C6",
                        "ticks": ""
                      }
                    },
                    "title": {
                      "x": 0.05
                    },
                    "xaxis": {
                      "automargin": true,
                      "gridcolor": "#EBF0F8",
                      "linecolor": "#EBF0F8",
                      "ticks": "",
                      "title": {
                        "standoff": 15
                      },
                      "zerolinecolor": "#EBF0F8",
                      "zerolinewidth": 2
                    },
                    "yaxis": {
                      "automargin": true,
                      "gridcolor": "#EBF0F8",
                      "linecolor": "#EBF0F8",
                      "ticks": "",
                      "title": {
                        "standoff": 15
                      },
                      "zerolinecolor": "#EBF0F8",
                      "zerolinewidth": 2
                    }
                  }
                },
                "title": {
                  "font": {
                    "family": "Arial, sans-serif",
                    "size": 20
                  },
                  "text": "Dominio de frecuencia",
                  "x": 0.5,
                  "y": 0.95
                },
                "width": 600,
                "xaxis": {
                  "gridcolor": "lightgray",
                  "gridwidth": 1,
                  "linecolor": "black",
                  "linewidth": 0.1,
                  "showgrid": true,
                  "showline": true,
                  "title": {
                    "font": {
                      "size": 14
                    },
                    "text": "Frecuencia (Hz)"
                  }
                },
                "yaxis": {
                  "gridcolor": "lightgray",
                  "gridwidth": 1,
                  "linecolor": "black",
                  "linewidth": 0.1,
                  "showgrid": true,
                  "showline": true,
                  "title": {
                    "font": {
                      "size": 14
                    },
                    "text": "Amplitud FFT"
                  }
                }
              }
            }
          },
          "metadata": {},
          "output_type": "display_data"
        }
      ],
      "source": [
        "#Usando la transformada discreta de Fourier (FFT)\n",
        "gk= np.fft.fft(x)\n",
        "#print(gk) #impresion resultado de FFT\n",
        "M_gk=abs(gk)\n",
        "F=Fs*np.arange(0,len(x))/len(x)\n",
        "\n",
        "#VENTANA ESTATICA\n",
        "plt.plot(F,M_gk)\n",
        "plt.title(\"Dominio de frecuencia\")\n",
        "plt.xlabel('Frecuencia (Hz)',fontsize='14')\n",
        "plt.ylabel('Amplitud FFT',fontsize='14')\n",
        "plt.grid(color='gray', linestyle='--', linewidth=0.5)\n",
        "plt.show() #muestra el ploteo\n",
        "\n",
        "print(\"\\n\")\n",
        "\n",
        "#VENTANA DINAMICA\n",
        "import plotly.graph_objects as go\n",
        "# Crear gráfico interactivo con plotly\n",
        "fig = go.Figure()\n",
        "\n",
        "# Añadir la traza al gráfico\n",
        "fig.add_trace(go.Scatter(x=F, y=M_gk, mode='lines', name='FFT'))\n",
        "\n",
        "# Configuración del diseño del gráfico\n",
        "fig.update_layout(\n",
        "    title=dict(\n",
        "        text='Dominio de frecuencia',  # Texto del título\n",
        "        x=0.5,  # Centra el título (0: izquierda, 1: derecha)\n",
        "        y=0.95,  # Ajusta la posición vertical\n",
        "        font=dict(size=20, family='Arial, sans-serif')  # Tamaño y fuente\n",
        "    ),\n",
        "    xaxis=dict(\n",
        "        title=dict(\n",
        "        text='Frecuencia (Hz)',\n",
        "        font=dict(size=14)  # Tamaño de la fuente del título del eje X\n",
        "        ),\n",
        "        showgrid=True,  # Activa la grilla en el eje X\n",
        "        gridcolor='lightgray',  # Color de la grilla\n",
        "        gridwidth=1,  # Ancho de la línea de la grilla\n",
        "        showline=True,  # Muestra la línea del borde en el eje X\n",
        "        linecolor='black',  # Color del borde\n",
        "        linewidth=0.1,  # Grosor del borde \n",
        "    ),\n",
        "    yaxis=dict(\n",
        "        title=dict(\n",
        "        text='Amplitud FFT',\n",
        "        font=dict(size=14)  # Tamaño de la fuente del título del eje Y\n",
        "        ),\n",
        "        showgrid=True,  # Activa la grilla en el eje Y\n",
        "        gridcolor='lightgray',  # Color de la grilla\n",
        "        gridwidth=1,  # Ancho de la línea de la grilla\n",
        "        showline=True,  # Muestra la línea del borde en el eje Y\n",
        "        linecolor='black',  # Color del borde\n",
        "        linewidth=0.1,  # Grosor del borde\n",
        "    ),\n",
        "    template='plotly_white',  # Fondo blanco\n",
        "    margin=dict(l=50, r=50, t=80, b=50),  # Márgenes del gráfico\n",
        "    width=600,  # Ancho del gráfico en píxeles\n",
        "    height=400,  # Altura del gráfico en píxeles\n",
        "    legend=dict(\n",
        "        x=0.8, y=1,  # Posición de la leyenda\n",
        "        bgcolor='rgba(255,255,255,0.8)',  # Fondo semitransparente\n",
        "        bordercolor='black',  # Color del borde de la leyenda\n",
        "        borderwidth=1  # Ancho del borde\n",
        "    )\n",
        ")\n",
        "# Mostrar el gráfico\n",
        "#import plotly.io as pio   \n",
        "#pio.renderers.default = 'browser'\n",
        "fig.show()"
      ]
    }
  ],
  "metadata": {
    "colab": {
      "collapsed_sections": [
        "--Aj1ESctEW7",
        "iVZ9MOoGRXuw"
      ],
      "provenance": []
    },
    "kernelspec": {
      "display_name": "Python 3",
      "name": "python3"
    },
    "language_info": {
      "codemirror_mode": {
        "name": "ipython",
        "version": 3
      },
      "file_extension": ".py",
      "mimetype": "text/x-python",
      "name": "python",
      "nbconvert_exporter": "python",
      "pygments_lexer": "ipython3",
      "version": "3.14.0"
    }
  },
  "nbformat": 4,
  "nbformat_minor": 0
}
